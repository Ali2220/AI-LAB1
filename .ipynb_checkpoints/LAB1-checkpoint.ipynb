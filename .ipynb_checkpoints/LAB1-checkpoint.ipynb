{
 "cells": [
  {
   "cell_type": "code",
   "execution_count": 105,
   "id": "f7078ffd-e03d-481d-9741-e73fc5f353c8",
   "metadata": {},
   "outputs": [
    {
     "name": "stdin",
     "output_type": "stream",
     "text": [
      "Enter a String:  alisarwar\n"
     ]
    },
    {
     "name": "stdout",
     "output_type": "stream",
     "text": [
      "Character at even index number are lsra\n"
     ]
    }
   ],
   "source": [
    "# Q1\n",
    "\n",
    "string = input(\"Enter a String: \")\n",
    "even_index_characters = string[1::2]\n",
    "print(f\"Character at even index number are {even_index_characters}\")\n"
   ]
  },
  {
   "cell_type": "code",
   "execution_count": 112,
   "id": "59fd49bb-f8c2-4bf0-bcac-0240c1126805",
   "metadata": {},
   "outputs": [
    {
     "name": "stdout",
     "output_type": "stream",
     "text": [
      "native\n"
     ]
    }
   ],
   "source": [
    "# Q2\n",
    "\n",
    "string2 = \"pynative\"\n",
    "print(string2[2:8])\n"
   ]
  },
  {
   "cell_type": "code",
   "execution_count": 115,
   "id": "8607efda-49c8-4e0c-b1ee-a06d0f762149",
   "metadata": {},
   "outputs": [
    {
     "name": "stdout",
     "output_type": "stream",
     "text": [
      "The list contains duplicate elements.\n"
     ]
    }
   ],
   "source": [
    "# Q3\n",
    "\n",
    "list = [1, 2, 3, 4, 5, 5]\n",
    "\n",
    "if len(list) == len(set(list)):\n",
    "    print(\"All elements in the list are unique.\")\n",
    "else:\n",
    "    print(\"The list contains duplicate elements.\")\n",
    "\n"
   ]
  },
  {
   "cell_type": "code",
   "execution_count": 124,
   "id": "962e7b6a-37ba-4390-a232-1ddd1e3f9077",
   "metadata": {},
   "outputs": [
    {
     "name": "stdin",
     "output_type": "stream",
     "text": [
      "Enter an integer:  32\n"
     ]
    },
    {
     "name": "stdout",
     "output_type": "stream",
     "text": [
      " The number of binary digits: 6\n"
     ]
    }
   ],
   "source": [
    "# Q4\n",
    "\n",
    "digits = int(input(\"Enter an integer: \"))\n",
    "binaryDigits = bin(digits)\n",
    "countDigits = len(binaryDigits)-2\n",
    "print(\" The number of binary digits:\", countDigits)\n"
   ]
  },
  {
   "cell_type": "code",
   "execution_count": 135,
   "id": "01bbe546-60d7-43fe-b7f1-5219d91c819d",
   "metadata": {},
   "outputs": [
    {
     "name": "stdout",
     "output_type": "stream",
     "text": [
      "5\n",
      "10\n",
      "15\n",
      "20\n"
     ]
    }
   ],
   "source": [
    "# Q5\n",
    "\n",
    "list = [5,10,15,17,19,20]\n",
    "for i in list:\n",
    "    if(i%5==0):\n",
    "        print(i)\n"
   ]
  },
  {
   "cell_type": "code",
   "execution_count": 144,
   "id": "7562e770-3a41-4a92-8ad0-c2a975eac4ff",
   "metadata": {},
   "outputs": [
    {
     "name": "stdout",
     "output_type": "stream",
     "text": [
      "The income tax will be 0.13333333333333333%\n"
     ]
    }
   ],
   "source": [
    "# Q6\n",
    "# Taxable Income = Income Tax Payable / Income Tax\n",
    "\n",
    "Taxable_Income = 45000\n",
    "Income_Tax_Payable = 6000\n",
    "Income_Tax = f\"The income tax will be {Income_Tax_Payable/Taxable_Income}%\"\n",
    "print(Income_Tax)\n"
   ]
  },
  {
   "cell_type": "code",
   "execution_count": 155,
   "id": "6b0e091a-576b-4977-93e7-bdfd22dbbc36",
   "metadata": {},
   "outputs": [
    {
     "name": "stdin",
     "output_type": "stream",
     "text": [
      "Enter Your ID:  2\n",
      "Enter Your First Name:  ali\n",
      "Enter Your Last Name:  sarwar\n",
      "Enter Your Salary:  150000\n",
      "Enter Income Tax 20%\n"
     ]
    },
    {
     "name": "stdout",
     "output_type": "stream",
     "text": [
      "------------------------------------------------------------------------------\n",
      "ID\tFirst Name\t\tLast Name\tSalary\t\tIncome Tax\n",
      "------------------------------------------------------------------------------\n",
      "2\tali\t\t\tsarwar\t\t150000\t\t20%\n"
     ]
    }
   ],
   "source": [
    "# Q7\n",
    "ID = int(input(\"Enter Your ID: \"))\n",
    "First_Name = input(\"Enter Your First Name: \")\n",
    "Last_Name = input(\"Enter Your Last Name: \")\n",
    "Salary = input(\"Enter Your Salary: \")\n",
    "Income_Tax = input(\"Enter Income Tax\")\n",
    "print(\"------------------------------------------------------------------------------\")\n",
    "print(\"ID\\tFirst Name\\t\\tLast Name\\tSalary\\t\\tIncome Tax\")\n",
    "print(\"------------------------------------------------------------------------------\")\n",
    "print(f\"{ID}\\t{First_Name}\\t\\t\\t{Last_Name}\\t\\t{Salary}\\t\\t{Income_Tax}\")"
   ]
  },
  {
   "cell_type": "code",
   "execution_count": 157,
   "id": "4d7635eb-f22b-4770-a3a1-6902cff06863",
   "metadata": {},
   "outputs": [
    {
     "name": "stdin",
     "output_type": "stream",
     "text": [
      "Enter a number:  3\n"
     ]
    },
    {
     "name": "stdout",
     "output_type": "stream",
     "text": [
      "The sum of numbers from 1 to 3 is: 6\n"
     ]
    }
   ],
   "source": [
    "# Q8\n",
    "\n",
    "number = int(input(\"Enter a number: \"))\n",
    "count = 0\n",
    "\n",
    "for i in range(1, number + 1):\n",
    "    count = count + i   \n",
    "print(\"The sum of numbers from 1 to\", number, \"is:\", count)\n"
   ]
  },
  {
   "cell_type": "code",
   "execution_count": 161,
   "id": "94e34f58-2437-41c4-8c9e-2a4c6145ce91",
   "metadata": {},
   "outputs": [
    {
     "name": "stdout",
     "output_type": "stream",
     "text": [
      "The distances of 5 cities from Karachi are as follows in dictionary.\n",
      "{'Hyderabad': 120, 'Nawabshah': 300, 'Sukkar': 450, 'Multan': 750, 'Lahore': 1400, 'Islamabad': 1800}\n"
     ]
    }
   ],
   "source": [
    "# Q9\n",
    "\n",
    "print(\"The distances of 5 cities from Karachi are as follows in dictionary.\")\n",
    "dict = {\n",
    "    \"Hyderabad\" : 120,\n",
    "    \"Nawabshah\" : 300,\n",
    "    \"Sukkar\" : 450,\n",
    "    \"Multan\" : 750,\n",
    "    \"Lahore\" : 1400,\n",
    "    \"Islamabad\": 1800\n",
    "}\n",
    "print(dict)"
   ]
  },
  {
   "cell_type": "code",
   "execution_count": 180,
   "id": "a21cc6ac-38cc-4889-aa2b-5b1fc5deaf95",
   "metadata": {},
   "outputs": [
    {
     "name": "stdout",
     "output_type": "stream",
     "text": [
      "The distances of 5 cities from Karachi are as follows in Tuple.\n"
     ]
    },
    {
     "name": "stdin",
     "output_type": "stream",
     "text": [
      "Input the city name to find out the distance from Karachi:  Islamabad\n"
     ]
    },
    {
     "name": "stdout",
     "output_type": "stream",
     "text": [
      "1700 km\n"
     ]
    }
   ],
   "source": [
    "#Q10\n",
    "\n",
    "print(\"The distances of 5 cities from Karachi are as follows in Tuple.\")\n",
    "tuple = (\"Hyderabad : 120\", \"Nawabshah : 300\", \"Sukkar : 450\", \"Multan : 750\", \"Lahore : 1400\", \"Islamabad: 1800\")\n",
    "city_name = input((\"Input the city name to find out the distance from Karachi: \"))\n",
    "\n",
    "if(city_name == \"Hyderabad\"):\n",
    "    print(\"120 km\")\n",
    "\n",
    "elif(city_name == \"Nawabshah\"):\n",
    "    print(\"300 km\")\n",
    "\n",
    "elif(city_name == \"Sukkar\"):\n",
    "    print(\"450 km\")\n",
    "\n",
    "elif(city_name == \"Multan\"):\n",
    "    print(\"750 km\")\n",
    "\n",
    "elif(city_name == \"Lahore\"):\n",
    "    print(\"1400 km\")\n",
    "\n",
    "elif(city_name == \"Islamabad\"):\n",
    "    print(\"1700 km\")\n",
    "\n",
    "else:\n",
    "    print(\"City not found\")\n"
   ]
  },
  {
   "cell_type": "code",
   "execution_count": null,
   "id": "8eaf868b-361b-41c0-b63a-a50eabc916bb",
   "metadata": {},
   "outputs": [],
   "source": []
  }
 ],
 "metadata": {
  "kernelspec": {
   "display_name": "Python 3 (ipykernel)",
   "language": "python",
   "name": "python3"
  },
  "language_info": {
   "codemirror_mode": {
    "name": "ipython",
    "version": 3
   },
   "file_extension": ".py",
   "mimetype": "text/x-python",
   "name": "python",
   "nbconvert_exporter": "python",
   "pygments_lexer": "ipython3",
   "version": "3.12.0"
  }
 },
 "nbformat": 4,
 "nbformat_minor": 5
}
